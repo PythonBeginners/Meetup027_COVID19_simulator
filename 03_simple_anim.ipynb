{
 "cells": [
  {
   "cell_type": "markdown",
   "metadata": {},
   "source": [
    "# シンプルアニメーション"
   ]
  },
  {
   "cell_type": "code",
   "execution_count": 21,
   "metadata": {},
   "outputs": [],
   "source": [
    "import time\n",
    "import numpy as np\n",
    "from threading import Timer\n",
    "import pandas as pd\n",
    "import matplotlib.pyplot as plt\n",
    "from IPython.display import display as IPython_display\n",
    "from ipycanvas import Canvas, hold_canvas\n",
    "from math import pi"
   ]
  },
  {
   "cell_type": "code",
   "execution_count": 22,
   "metadata": {},
   "outputs": [],
   "source": [
    "# タイマークラス\n",
    "class RepeatedTimer(Timer):\n",
    "  def __init__(self, interval, function, args=[], kwargs={}):\n",
    "    Timer.__init__(self, interval, self.run, args, kwargs)\n",
    "    self.thread = None\n",
    "    self.function = function\n",
    "\n",
    "  def run(self):\n",
    "    self.thread = Timer(self.interval, self.run)\n",
    "    self.thread.start()\n",
    "    self.function(*self.args, **self.kwargs)\n",
    "\n",
    "  def cancel(self):\n",
    "    if self.thread is not None:\n",
    "      self.thread.cancel()\n",
    "      self.thread.join()\n",
    "      del self.thread"
   ]
  },
  {
   "cell_type": "code",
   "execution_count": 23,
   "metadata": {},
   "outputs": [
    {
     "data": {
      "application/vnd.jupyter.widget-view+json": {
       "model_id": "26957c5107f24c939cd7f9fc76c128ee",
       "version_major": 2,
       "version_minor": 0
      },
      "text/plain": [
       "Canvas(height=200, width=400)"
      ]
     },
     "metadata": {},
     "output_type": "display_data"
    }
   ],
   "source": [
    "# Canvas作成\n",
    "canvas = Canvas(width=400, height=200)\n",
    "canvas.stroke_rect(0, 0, canvas.width, canvas.height)\n",
    "canvas"
   ]
  },
  {
   "cell_type": "code",
   "execution_count": 24,
   "metadata": {},
   "outputs": [],
   "source": [
    "# 簡単なアニメーション実装\n",
    "arc_step = 0\n",
    "\n",
    "## 毎フレームごとの更新処理\n",
    "def on_update(hoge):\n",
    "    global arc_step\n",
    "    with hold_canvas(canvas):\n",
    "        canvas.clear_rect(0, 0, canvas.width, canvas.height)\n",
    "        canvas.stroke_rect(0, 0, canvas.width, canvas.height)\n",
    "        canvas.fill_arc(arc_step*5, 100, 6, 0, 2 * pi)\n",
    "    arc_step += 1\n",
    "\n",
    "## タイマー生成＆繰り返し\n",
    "timer_interval = 0.02\n",
    "measurement_duration = 5.0\n",
    "\n",
    "t = RepeatedTimer(timer_interval, on_update, [\"hoge\"])\n",
    "t.start()\n",
    "time.sleep(measurement_duration)\n",
    "t.cancel()"
   ]
  },
  {
   "cell_type": "code",
   "execution_count": null,
   "metadata": {},
   "outputs": [],
   "source": []
  }
 ],
 "metadata": {
  "kernelspec": {
   "display_name": "Python 3",
   "language": "python",
   "name": "python3"
  },
  "language_info": {
   "codemirror_mode": {
    "name": "ipython",
    "version": 3
   },
   "file_extension": ".py",
   "mimetype": "text/x-python",
   "name": "python",
   "nbconvert_exporter": "python",
   "pygments_lexer": "ipython3",
   "version": "3.7.3"
  }
 },
 "nbformat": 4,
 "nbformat_minor": 4
}
