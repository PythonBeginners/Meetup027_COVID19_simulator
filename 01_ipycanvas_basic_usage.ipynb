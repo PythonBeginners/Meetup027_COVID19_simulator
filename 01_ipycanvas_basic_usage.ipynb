{
 "cells": [
  {
   "cell_type": "markdown",
   "metadata": {},
   "source": [
    "# インストール\n",
    "- ipycanvasをインストールします。\n",
    "- パッケージをすでにインストール済みの場合は不要です。"
   ]
  },
  {
   "cell_type": "code",
   "execution_count": 4,
   "metadata": {},
   "outputs": [
    {
     "name": "stdout",
     "output_type": "stream",
     "text": [
      "/Users/suzuki_yasuharu/anaconda3/bin/python\n"
     ]
    }
   ],
   "source": [
    "# !which python"
   ]
  },
  {
   "cell_type": "code",
   "execution_count": 6,
   "metadata": {},
   "outputs": [
    {
     "name": "stdout",
     "output_type": "stream",
     "text": [
      "Python 3.7.3\n"
     ]
    }
   ],
   "source": [
    "# !python -V"
   ]
  },
  {
   "cell_type": "code",
   "execution_count": 8,
   "metadata": {},
   "outputs": [
    {
     "name": "stdout",
     "output_type": "stream",
     "text": [
      "v8.16.1\n"
     ]
    }
   ],
   "source": [
    "# !node -v"
   ]
  },
  {
   "cell_type": "markdown",
   "metadata": {},
   "source": [
    "#### ipycanvasのインストール\n",
    "デフォルトだとなぜかnodejs v6.13.1が入ってしまうので、そのままだとnodejsのバージョンが古いと言われてエラー <br>\n",
    "→無理やりバージョン8以上を指定する"
   ]
  },
  {
   "cell_type": "code",
   "execution_count": 2,
   "metadata": {
    "scrolled": true
   },
   "outputs": [
    {
     "name": "stdout",
     "output_type": "stream",
     "text": [
      "Collecting package metadata (current_repodata.json): done\n",
      "Solving environment: done\n",
      "\n",
      "# All requested packages already installed.\n",
      "\n"
     ]
    }
   ],
   "source": [
    "# !conda install -y -c conda-forge ipycanvas nodejs=8.12.0"
   ]
  },
  {
   "cell_type": "markdown",
   "metadata": {},
   "source": [
    "## （JupyterLab利用者） jupyter lab extensionの追加\n"
   ]
  },
  {
   "cell_type": "code",
   "execution_count": 3,
   "metadata": {},
   "outputs": [
    {
     "name": "stdout",
     "output_type": "stream",
     "text": [
      "Collecting package metadata (current_repodata.json): done\n",
      "Solving environment: done\n",
      "\n",
      "# All requested packages already installed.\n",
      "\n"
     ]
    }
   ],
   "source": [
    "# !conda install -y -c conda-forge nodejs"
   ]
  },
  {
   "cell_type": "code",
   "execution_count": 4,
   "metadata": {
    "scrolled": true
   },
   "outputs": [
    {
     "name": "stdout",
     "output_type": "stream",
     "text": []
    },
    {
     "name": "stdout",
     "output_type": "stream",
     "text": []
    },
    {
     "name": "stdout",
     "output_type": "stream",
     "text": []
    },
    {
     "name": "stdout",
     "output_type": "stream",
     "text": [
      "Building jupyterlab assets (build:prod:minimize)\n"
     ]
    }
   ],
   "source": [
    "# !jupyter labextension install @jupyter-widgets/jupyterlab-manager ipycanvas"
   ]
  },
  {
   "cell_type": "markdown",
   "metadata": {},
   "source": [
    "コメント\n",
    "- 上記でもCanvasが表示されない場合は以下のコマンドを試してみてください <br>\n",
    "jupyter nbextension enable --py --sys-prefix widgetsnbextension\n",
    "- トラブルシューティングで活用したページ <br>\n",
    "https://github.com/jupyter-widgets/ipywidgets/issues/1702\n",
    "- コマンドを実行後、Jupyter Lab を再起動すると上手くいきました。"
   ]
  },
  {
   "cell_type": "code",
   "execution_count": 7,
   "metadata": {},
   "outputs": [
    {
     "name": "stdout",
     "output_type": "stream",
     "text": [
      "Enabling notebook extension jupyter-js-widgets/extension...\n",
      "      - Validating: \u001b[32mOK\u001b[0m\n"
     ]
    }
   ],
   "source": [
    "# !jupyter nbextension enable --py --sys-prefix widgetsnbextension"
   ]
  },
  {
   "cell_type": "markdown",
   "metadata": {},
   "source": [
    "# 基本的な使用方法"
   ]
  },
  {
   "cell_type": "markdown",
   "metadata": {},
   "source": [
    "## Canvasの生成\n",
    "- コンストラクタでピクセル単位で幅と高さを指定できます。"
   ]
  },
  {
   "cell_type": "code",
   "execution_count": 1,
   "metadata": {},
   "outputs": [
    {
     "data": {
      "application/vnd.jupyter.widget-view+json": {
       "model_id": "912892a7d2514af68ef3d21ac2d0b618",
       "version_major": 2,
       "version_minor": 0
      },
      "text/plain": [
       "Canvas(height=200, width=200)"
      ]
     },
     "metadata": {},
     "output_type": "display_data"
    }
   ],
   "source": [
    "from ipycanvas import Canvas\n",
    "\n",
    "canvas = Canvas(width=200, height=200)\n",
    "canvas"
   ]
  },
  {
   "cell_type": "markdown",
   "metadata": {},
   "source": [
    "コメント\n",
    "- 真っ白で正常です。"
   ]
  },
  {
   "cell_type": "markdown",
   "metadata": {},
   "source": [
    "## マルチレイヤーCanvasの生成\n",
    "- マルチレイヤーのCanvasを作成することもできます\n",
    "- これは、画面上で他のオブジェクトが大きく動いている間にあまり更新する必要のない背景がある場合に便利です。"
   ]
  },
  {
   "cell_type": "code",
   "execution_count": 2,
   "metadata": {},
   "outputs": [
    {
     "data": {
      "application/vnd.jupyter.widget-view+json": {
       "model_id": "7bcc38039a2d46fba605747e0999562b",
       "version_major": 2,
       "version_minor": 0
      },
      "text/plain": [
       "MultiCanvas(height=200, width=200)"
      ]
     },
     "metadata": {},
     "output_type": "display_data"
    }
   ],
   "source": [
    "from ipycanvas import MultiCanvas\n",
    "\n",
    "# Create a multi-layer canvas with 4 layers\n",
    "multi_canvas = MultiCanvas(4, width=200, height=200)\n",
    "multi_canvas[0] #  Access first layer (background)\n",
    "multi_canvas[3] #  Access last layer\n",
    "multi_canvas"
   ]
  },
  {
   "cell_type": "markdown",
   "metadata": {},
   "source": [
    "コメント\n",
    "- こちらも真っ白で正常です。"
   ]
  },
  {
   "cell_type": "markdown",
   "metadata": {},
   "source": [
    "## 矩形の表示"
   ]
  },
  {
   "cell_type": "code",
   "execution_count": 3,
   "metadata": {},
   "outputs": [
    {
     "data": {
      "application/vnd.jupyter.widget-view+json": {
       "model_id": "03a0cd49c4004b8284db347cfb87c136",
       "version_major": 2,
       "version_minor": 0
      },
      "text/plain": [
       "Canvas(height=200, width=200)"
      ]
     },
     "metadata": {},
     "output_type": "display_data"
    }
   ],
   "source": [
    "from ipycanvas import Canvas\n",
    "\n",
    "canvas = Canvas(width=200, height=200)\n",
    "\n",
    "canvas.fill_rect(25, 25, 100, 100)\n",
    "canvas.clear_rect(45, 45, 60, 60)\n",
    "canvas.stroke_rect(50, 50, 50, 50)\n",
    "\n",
    "canvas"
   ]
  },
  {
   "cell_type": "markdown",
   "metadata": {},
   "source": [
    "コメント\n",
    "- ようやく真っ白でないものが表示されました。"
   ]
  },
  {
   "cell_type": "code",
   "execution_count": 44,
   "metadata": {},
   "outputs": [
    {
     "data": {
      "application/vnd.jupyter.widget-view+json": {
       "model_id": "45e1f19f10264014b8db4c7e7ab7b7ca",
       "version_major": 2,
       "version_minor": 0
      },
      "text/plain": [
       "Canvas(height=200, width=400)"
      ]
     },
     "metadata": {},
     "output_type": "display_data"
    }
   ],
   "source": [
    "from math import pi\n",
    "\n",
    "canvas = Canvas(width=400, height=200)\n",
    "canvas.stroke_rect(0, 0, 400, 200)\n",
    "\n",
    "def handle_mouse_move(x, y):\n",
    "#     canvas.fill_arc(x, y, 6, 0, 2 * pi)\n",
    "#     canvas.fill_rect(x, y, 5, 5)\n",
    "    pass\n",
    "\n",
    "def handle_mouse_down(x, y):\n",
    "    canvas.fill_arc(x, y, 6, 0, 2 * pi)\n",
    "    pass\n",
    "\n",
    "def handle_touch_move(fingers_locations):\n",
    "    # Draw circles where fingers are located\n",
    "    for finger_location in fingers_locations:\n",
    "        canvas.fill_arc(finger_location[0], finger_location[1], 6, 0, 2 * pi)\n",
    "\n",
    "canvas.on_mouse_move(handle_mouse_move)\n",
    "canvas.on_mouse_down(handle_mouse_down)\n",
    "canvas.on_touch_move(handle_touch_move)\n",
    "canvas"
   ]
  },
  {
   "cell_type": "code",
   "execution_count": 48,
   "metadata": {},
   "outputs": [
    {
     "name": "stdout",
     "output_type": "stream",
     "text": [
      "1584723930.4081368\n",
      "1584723932.417384\n",
      "1584723934.4209359\n",
      "1584723936.430718\n",
      "1584723938.4409962\n"
     ]
    }
   ],
   "source": [
    "import time\n",
    "\n",
    "def worker():\n",
    "    print(time.time())\n",
    "    time.sleep(1)\n",
    "\n",
    "interval = 5\n",
    "for i in range(5):\n",
    "    worker()\n",
    "    canvas.fill_arc(i*5, 0, 6, 0, 2 * pi)\n",
    "    time.sleep(1)"
   ]
  },
  {
   "cell_type": "code",
   "execution_count": 42,
   "metadata": {},
   "outputs": [],
   "source": [
    "canvas = Canvas(width=100, height=50)\n",
    "num1 = 0\n",
    "\n",
    "def perform_drawings():\n",
    "    global num1\n",
    "    canvas.font = '32px serif'\n",
    "    canvas.fill_text(f'Voilà! {num1}', 10, 32)\n",
    "    num1 += 1\n",
    "\n",
    "canvas.on_client_ready(perform_drawings)"
   ]
  },
  {
   "cell_type": "code",
   "execution_count": 43,
   "metadata": {},
   "outputs": [
    {
     "data": {
      "application/vnd.jupyter.widget-view+json": {
       "model_id": "d9d9ea1d3c544e50b2e1fe1010e2c797",
       "version_major": 2,
       "version_minor": 0
      },
      "text/plain": [
       "Canvas(height=50, width=100)"
      ]
     },
     "metadata": {},
     "output_type": "display_data"
    }
   ],
   "source": [
    "canvas"
   ]
  },
  {
   "cell_type": "code",
   "execution_count": null,
   "metadata": {},
   "outputs": [],
   "source": []
  }
 ],
 "metadata": {
  "kernelspec": {
   "display_name": "Python 3",
   "language": "python",
   "name": "python3"
  },
  "language_info": {
   "codemirror_mode": {
    "name": "ipython",
    "version": 3
   },
   "file_extension": ".py",
   "mimetype": "text/x-python",
   "name": "python",
   "nbconvert_exporter": "python",
   "pygments_lexer": "ipython3",
   "version": "3.7.3"
  }
 },
 "nbformat": 4,
 "nbformat_minor": 4
}
