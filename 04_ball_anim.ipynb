{
 "cells": [
  {
   "cell_type": "markdown",
   "metadata": {},
   "source": [
    "# ボールアニメーション"
   ]
  },
  {
   "cell_type": "code",
   "execution_count": 1,
   "metadata": {},
   "outputs": [],
   "source": [
    "import time\n",
    "import numpy as np\n",
    "from threading import Timer\n",
    "import pandas as pd\n",
    "import matplotlib.pyplot as plt\n",
    "from IPython.display import display as IPython_display\n",
    "from ipycanvas import Canvas, hold_canvas\n",
    "import math\n",
    "from math import pi"
   ]
  },
  {
   "cell_type": "code",
   "execution_count": 2,
   "metadata": {},
   "outputs": [],
   "source": [
    "# タイマークラス\n",
    "class RepeatedTimer(Timer):\n",
    "    def __init__(self, interval, function, args=[], kwargs={}):\n",
    "        Timer.__init__(self, interval, self.run, args, kwargs)\n",
    "        self.thread = None\n",
    "        self.function = function\n",
    "\n",
    "    def run(self):\n",
    "        self.thread = Timer(self.interval, self.run)\n",
    "        self.thread.start()\n",
    "        self.function(*self.args, **self.kwargs)\n",
    "\n",
    "    def cancel(self):\n",
    "        if self.thread is not None:\n",
    "            self.thread.cancel()\n",
    "            self.thread.join()\n",
    "            del self.thread"
   ]
  },
  {
   "cell_type": "code",
   "execution_count": 44,
   "metadata": {},
   "outputs": [],
   "source": [
    "# ゲームオブジェクトクラス\n",
    "class GameObject2D:\n",
    "    def __init__(self, init_x=0, init_y=0, width=0, height=0, color='black', vec_x=0, vec_y=0):\n",
    "        self.init_x = init_x\n",
    "        self.init_y = init_y\n",
    "        self.pos_x = init_x\n",
    "        self.pos_y = init_y\n",
    "        self.width = width\n",
    "        self.height = height\n",
    "        self.color = color\n",
    "        self.vec_x = vec_x\n",
    "        self.vec_y = vec_y\n",
    "\n",
    "    def update(self):\n",
    "        pass\n",
    "\n",
    "# ボールクラス\n",
    "class Ball(GameObject2D):\n",
    "    def __init__(self, init_x=0, init_y=0, width=0, color='black', vec_x=0, vec_y=0):\n",
    "        GameObject2D.__init__(self, init_x, init_y, width, width, color, vec_x, vec_y) # ボールはwidthだけ使用するのでheightにもwidthを入れる\n",
    "        self.half_w = self.width * 0.5\n",
    "\n",
    "    ## ボールをcanvas内に収める処理\n",
    "    def _crop_canvas(self):\n",
    "        if self.pos_x + self.half_w > canvas.width:\n",
    "            self.pos_x = canvas.width - self.half_w  # 壁にくっつける\n",
    "            self.vec_x = -self.vec_x\n",
    "        elif self.pos_x - self.half_w < 0:\n",
    "            self.pos_x = self.half_w  # 壁にくっつける\n",
    "            self.vec_x = -self.vec_x\n",
    "\n",
    "        if self.pos_y + self.half_w > canvas.height:\n",
    "            self.pos_y = canvas.height - self.half_w  # 壁にくっつける\n",
    "            self.vec_y = -self.vec_y\n",
    "        elif self.pos_y - self.half_w < 0:\n",
    "            self.pos_y = self.half_w  # 壁にくっつける\n",
    "            self.vec_y = -self.vec_y\n",
    "\n",
    "    ## ボール同士の当たり判定\n",
    "    def _hit_one_ball(self, ball):\n",
    "        sub_x = ball.pos_x - self.pos_x \n",
    "        sub_y = ball.pos_y - self.pos_y\n",
    "        sub_r = math.hypot(sub_x, sub_y)\n",
    "        concat_w = self.half_w + ball.half_w\n",
    "        \n",
    "        if sub_r < concat_w:\n",
    "            vec_r = math.hypot(self.vec_x, self.vec_y)\n",
    "            if vec_r > 0 and sub_r > 0:\n",
    "                print(f'old pos_x={self.pos_x}, pos_y={self.pos_y}, ball_x={ball.pos_x}, ball_y={ball.pos_y}, vec_x={self.vec_x}, vec_y={self.vec_y}, sub_x={sub_x}, sub_y={sub_y}')\n",
    "                self.pos_x = ball.pos_x - (sub_x / sub_r) * concat_w  # ボールにくっつける\n",
    "                self.pos_y = ball.pos_y - (sub_y / sub_r) * concat_w  # ボールにくっつける\n",
    "                self.vec_x = -(sub_x / sub_r) * vec_r\n",
    "                self.vec_y = -(sub_y / sub_r) * vec_r\n",
    "                print(f'new pos_x={self.pos_x}, pos_y={self.pos_y}, ball_x={ball.pos_x}, ball_y={ball.pos_y}, vec_x={self.vec_x}, vec_y={self.vec_y}')\n",
    "            \n",
    "    ## ボール同士の当たり判定\n",
    "    def _hit_balls(self):\n",
    "        for one_ball in balls:\n",
    "            if one_ball != self:\n",
    "                self._hit_one_ball(one_ball)\n",
    "    \n",
    "    def update(self):\n",
    "        ### 速度を加算して位置を移動\n",
    "        self.pos_x += self.vec_x\n",
    "        self.pos_y += self.vec_y\n",
    "\n",
    "        self._crop_canvas() ## ボールをcanvas内に収める\n",
    "        self._hit_balls() ## ボール同士の当たり判定\n",
    "\n",
    "        canvas.fill_style = self.color\n",
    "        canvas.fill_arc(self.pos_x, self.pos_y, self.width, 0, 2 * pi)\n"
   ]
  },
  {
   "cell_type": "code",
   "execution_count": 48,
   "metadata": {},
   "outputs": [
    {
     "data": {
      "application/vnd.jupyter.widget-view+json": {
       "model_id": "5274164c2b914c61a2fdde1d8d5fee02",
       "version_major": 2,
       "version_minor": 0
      },
      "text/plain": [
       "Canvas(height=200, width=400)"
      ]
     },
     "metadata": {},
     "output_type": "display_data"
    }
   ],
   "source": [
    "# Canvas作成\n",
    "canvas = Canvas(width=400, height=200)\n",
    "canvas.stroke_rect(0, 0, canvas.width, canvas.height)\n",
    "canvas"
   ]
  },
  {
   "cell_type": "code",
   "execution_count": 49,
   "metadata": {},
   "outputs": [
    {
     "name": "stdout",
     "output_type": "stream",
     "text": [
      "old pos_x=110, pos_y=176.0, ball_x=110, ball_y=172, vec_x=5, vec_y=-1, sub_x=0, sub_y=-4.0\n",
      "new pos_x=110.0, pos_y=178.0, ball_x=110, ball_y=172, vec_x=-0.0, vec_y=5.0990195135927845\n",
      "old pos_x=350, pos_y=175.0, ball_x=350, ball_y=170, vec_x=5, vec_y=-1, sub_x=0, sub_y=-5.0\n",
      "new pos_x=350.0, pos_y=176.0, ball_x=350, ball_y=170, vec_x=-0.0, vec_y=5.0990195135927845\n",
      "old pos_x=375, pos_y=125, ball_x=377.0, ball_y=124, vec_x=5, vec_y=1, sub_x=2.0, sub_y=-1\n",
      "new pos_x=371.6334368540005, pos_y=126.68328157299975, ball_x=377.0, ball_y=124, vec_x=-4.560701700396551, vec_y=2.2803508501982757\n",
      "old pos_x=372.0, pos_y=125, ball_x=371.6334368540005, ball_y=126.68328157299975, vec_x=-5, vec_y=1, sub_x=-0.3665631459995211, sub_y=1.6832815729997463\n",
      "new pos_x=372.9101176908984, pos_y=120.82068095205534, ball_x=371.6334368540005, ball_y=126.68328157299975, vec_x=1.0849700833287246, vec_y=-4.98225249443278\n",
      "old pos_x=346.00640608355116, pos_y=162.1242325389706, ball_x=350.0, ball_y=161.0696049213763, vec_x=-1.0849700833287246, vec_y=-4.98225249443278, sub_x=3.9935939164488445, sub_y=-1.0546276175942921\n",
      "new pos_x=344.19887122058486, pos_y=162.60156604511332, ball_x=350.0, ball_y=161.0696049213763, vec_x=-4.9300114745170704, vec_y=1.3019166106667575\n",
      "old pos_x=106.53024096485852, pos_y=99.34182918933992, ball_x=110.0, ball_y=99.88137075826288, vec_x=4.9300114745170704, vec_y=1.3019166106667575, sub_x=3.469759035141479, sub_y=0.5395415689229566\n",
      "new pos_x=104.07124962293167, pos_y=98.95946026021424, ball_x=110.0, ball_y=99.88137075826288, vec_x=-5.038468977315323, vec_y=-0.7834732698893336\n",
      "old pos_x=352.0, pos_y=115.0, ball_x=350.0, ball_y=110.31666826892257, vec_x=-5, vec_y=1, sub_x=-2.0, sub_y=-4.6833317310774305\n",
      "new pos_x=352.3564046695195, pos_y=115.83458064893247, ball_x=350.0, ball_y=110.31666826892257, vec_x=2.0025588986335348, vec_y=4.689323816660953\n",
      "old pos_x=350.0, pos_y=100.11862924173701, ball_x=349.6133292301384, ball_y=98.77473570832755, vec_x=-0.0, vec_y=-5.0990195135927845, sub_x=-0.38667076986160964, sub_y=-1.3438935334094566\n",
      "new pos_x=351.272368110402, pos_y=104.54080802783359, ball_x=349.6133292301384, ball_y=98.77473570832755, vec_x=1.4099119373788687, vec_y=4.900219212324747\n",
      "old pos_x=354.17403093053497, pos_y=101.05508655852583, ball_x=351.272368110402, ball_y=104.54080802783359, vec_x=4.560701700396551, vec_y=2.2803508501982757, sub_x=-2.9016628201329695, sub_y=3.4857214693077623\n",
      "new pos_x=355.1110497163119, pos_y=99.92946077042075, ball_x=351.272368110402, ball_y=104.54080802783359, vec_x=3.2622520691673866, vec_y=-3.918891608250106\n",
      "old pos_x=164.7031677585096, pos_y=23.495018783544573, ball_x=160.19195806617927, ball_y=21.80335847734401, vec_x=-2.0025588986335348, vec_y=-4.689323816660953, sub_x=-4.51120969233034, sub_y=-1.6916603062005642\n",
      "new pos_x=165.80995087122344, pos_y=23.910051820588777, ball_x=160.19195806617927, ball_y=21.80335847734401, vec_x=4.774375823357357, vec_y=1.7903450777268495\n",
      "old pos_x=178.46364970627587, pos_y=152.89802708907732, ball_x=175.89935966587137, ball_y=149.97330070099872, vec_x=-1.4099119373788687, vec_y=-4.900219212324747, sub_x=-2.564290040404501, sub_y=-2.9247263880785965\n",
      "new pos_x=179.8548885494308, pos_y=154.48481832274499, ball_x=175.89935966587137, ball_y=149.97330070099872, vec_x=3.3615531606415714, vec_y=3.8340527315336517\n",
      "old pos_x=110.0, pos_y=64.42549264658756, ball_x=113.84631750093708, ball_y=64.11091505136808, vec_x=-0.0, vec_y=-5.0990195135927845, sub_x=3.846317500937076, sub_y=-0.31457759521947537\n",
      "new pos_x=107.86628457611057, pos_y=64.60000217856621, ball_x=113.84631750093708, ball_y=64.11091505136808, vec_x=-5.082050762602949, vec_y=0.41564413423838437\n"
     ]
    }
   ],
   "source": [
    "# 簡単なアニメーション実装\n",
    "balls = [Ball(0,50,6,'green',5,1), Ball(0,100,6,'blue',5,1), Ball(0,150,6,'red',5,1), Ball(0,200,6,'pink',5,1), Ball(50,50,6,'yellow',5,1)]\n",
    "\n",
    "## 毎フレームごとの更新処理\n",
    "def on_update(hoge):\n",
    "    with hold_canvas(canvas):\n",
    "        canvas.clear_rect(0, 0, canvas.width, canvas.height)\n",
    "        canvas.stroke_rect(0, 0, canvas.width, canvas.height)\n",
    "        for one_ball in balls:\n",
    "            one_ball.update()\n",
    "\n",
    "## タイマー生成＆繰り返し\n",
    "timer_interval = 0.02\n",
    "measurement_duration = 15.0\n",
    "\n",
    "t = RepeatedTimer(timer_interval, on_update, [\"hoge\"])\n",
    "t.start()\n",
    "time.sleep(measurement_duration)\n",
    "t.cancel()"
   ]
  },
  {
   "cell_type": "code",
   "execution_count": null,
   "metadata": {},
   "outputs": [],
   "source": []
  }
 ],
 "metadata": {
  "kernelspec": {
   "display_name": "Python 3",
   "language": "python",
   "name": "python3"
  },
  "language_info": {
   "codemirror_mode": {
    "name": "ipython",
    "version": 3
   },
   "file_extension": ".py",
   "mimetype": "text/x-python",
   "name": "python",
   "nbconvert_exporter": "python",
   "pygments_lexer": "ipython3",
   "version": "3.7.3"
  }
 },
 "nbformat": 4,
 "nbformat_minor": 4
}
